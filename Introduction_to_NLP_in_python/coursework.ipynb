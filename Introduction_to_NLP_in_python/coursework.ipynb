{
 "cells": [
  {
   "cell_type": "code",
   "execution_count": null,
   "metadata": {},
   "outputs": [],
   "source": [
    "with open('data/lower_token.txt', 'r') as f:\n",
    "    f = f.readlines().rstrip()\n",
    "\n",
    "print(f)"
   ]
  }
 ],
 "metadata": {
  "language_info": {
   "name": "python"
  },
  "orig_nbformat": 4
 },
 "nbformat": 4,
 "nbformat_minor": 2
}
